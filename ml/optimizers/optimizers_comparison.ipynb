{
 "metadata": {
  "language_info": {
   "codemirror_mode": {
    "name": "ipython",
    "version": 3
   },
   "file_extension": ".py",
   "mimetype": "text/x-python",
   "name": "python",
   "nbconvert_exporter": "python",
   "pygments_lexer": "ipython3",
   "version": 3
  },
  "orig_nbformat": 2
 },
 "nbformat": 4,
 "nbformat_minor": 2,
 "cells": [
  {
   "source": [
    "# Optimizers Comparison\n",
    "In this notebook, we are going to load different optimizer implementations and use them on tasks such as linear regression. We will visualise their parameter estimates and speed, and we will also compare every optimizer's strengths and weaknesses. "
   ],
   "cell_type": "markdown",
   "metadata": {}
  }
 ]
}