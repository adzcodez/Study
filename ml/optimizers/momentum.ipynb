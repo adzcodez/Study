{
 "metadata": {
  "language_info": {
   "codemirror_mode": {
    "name": "ipython",
    "version": 3
   },
   "file_extension": ".py",
   "mimetype": "text/x-python",
   "name": "python",
   "nbconvert_exporter": "python",
   "pygments_lexer": "ipython3",
   "version": 3
  },
  "orig_nbformat": 2
 },
 "nbformat": 4,
 "nbformat_minor": 2,
 "cells": [
  {
   "source": [
    "# Momentum\n",
    "Momentum is a concept that can be used to improve optimizers and remove noise from the gradient descent itself. In this notebook, we will look at stochastic gradient descent with momentum as an example. "
   ],
   "cell_type": "markdown",
   "metadata": {}
  }
 ]
}