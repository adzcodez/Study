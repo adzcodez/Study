{
 "metadata": {
  "language_info": {
   "codemirror_mode": {
    "name": "ipython",
    "version": 3
   },
   "file_extension": ".py",
   "mimetype": "text/x-python",
   "name": "python",
   "nbconvert_exporter": "python",
   "pygments_lexer": "ipython3",
   "version": 3
  },
  "orig_nbformat": 2
 },
 "nbformat": 4,
 "nbformat_minor": 2,
 "cells": [
  {
   "source": [
    "# Adam\n",
    "Adam is a popular optimizer that has been shown to work well in many different machine learning tasks and architectures. \n",
    "\n",
    "Fundamentally, Adam combines momentum and adaptive learning rate from RMSProp. It stands for adaptive moment estimation. "
   ],
   "cell_type": "markdown",
   "metadata": {}
  }
 ]
}